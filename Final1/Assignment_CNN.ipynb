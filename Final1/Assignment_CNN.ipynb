{
  "nbformat": 4,
  "nbformat_minor": 0,
  "metadata": {
    "colab": {
      "provenance": []
    },
    "kernelspec": {
      "name": "python3",
      "display_name": "Python 3"
    },
    "language_info": {
      "name": "python"
    }
  },
  "cells": [
    {
      "cell_type": "code",
      "execution_count": 5,
      "metadata": {
        "colab": {
          "base_uri": "https://localhost:8080/"
        },
        "id": "kCXs17-h2nf6",
        "outputId": "595858e0-a9cc-4ada-dae5-563b2372658f"
      },
      "outputs": [
        {
          "output_type": "stream",
          "name": "stdout",
          "text": [
            "\n",
            "Training model with adam optimizer:\n",
            "Epoch 1/5\n",
            "938/938 [==============================] - 50s 52ms/step - loss: 0.1801 - accuracy: 0.9431 - val_loss: 0.0447 - val_accuracy: 0.9850\n",
            "Epoch 2/5\n",
            "938/938 [==============================] - 53s 56ms/step - loss: 0.0488 - accuracy: 0.9851 - val_loss: 0.0322 - val_accuracy: 0.9892\n",
            "Epoch 3/5\n",
            "938/938 [==============================] - 49s 52ms/step - loss: 0.0345 - accuracy: 0.9892 - val_loss: 0.0327 - val_accuracy: 0.9899\n",
            "Epoch 4/5\n",
            "938/938 [==============================] - 50s 54ms/step - loss: 0.0275 - accuracy: 0.9912 - val_loss: 0.0311 - val_accuracy: 0.9902\n",
            "Epoch 5/5\n",
            "938/938 [==============================] - 48s 51ms/step - loss: 0.0209 - accuracy: 0.9935 - val_loss: 0.0302 - val_accuracy: 0.9908\n",
            "313/313 [==============================] - 2s 7ms/step - loss: 0.0302 - accuracy: 0.9908\n",
            "Test accuracy with adam optimizer: 0.9908000230789185\n"
          ]
        }
      ],
      "source": [
        "import tensorflow as tf\n",
        "from tensorflow.keras import layers, models\n",
        "from tensorflow.keras.datasets import mnist\n",
        "from tensorflow.keras.utils import to_categorical\n",
        "\n",
        "(train_images, train_labels), (test_images, test_labels) = mnist.load_data()\n",
        "train_images = train_images.reshape((60000, 28, 28, 1)).astype('float32') / 255\n",
        "test_images = test_images.reshape((10000, 28, 28, 1)).astype('float32') / 255\n",
        "train_labels = to_categorical(train_labels)\n",
        "test_labels = to_categorical(test_labels)\n",
        "\n",
        "def create_cnn(optimizer='adam'):\n",
        "    model = models.Sequential()\n",
        "    model.add(layers.Conv2D(32, (3, 3), activation='relu', input_shape=(28, 28, 1)))\n",
        "    model.add(layers.MaxPooling2D((2, 2)))\n",
        "    model.add(layers.Conv2D(64, (3, 3), activation='relu'))\n",
        "    model.add(layers.MaxPooling2D((2, 2)))\n",
        "    model.add(layers.Conv2D(64, (3, 3), activation='relu'))\n",
        "    model.add(layers.Flatten())\n",
        "    model.add(layers.Dense(64, activation='relu'))\n",
        "    model.add(layers.Dense(10, activation='softmax'))\n",
        "\n",
        "    # Compile the model with the specified optimizer\n",
        "    model.compile(optimizer=optimizer,\n",
        "                  loss='categorical_crossentropy',\n",
        "                  metrics=['accuracy'])\n",
        "\n",
        "    return model\n",
        "\n",
        "model = create_cnn(optimizer='adam')\n",
        "print(f\"\\nTraining model with adam optimizer:\")\n",
        "model.fit(train_images, train_labels, epochs=5, batch_size=64, validation_data=(test_images, test_labels))\n",
        "test_loss, test_acc = model.evaluate(test_images, test_labels)\n",
        "print(f'Test accuracy with adam optimizer: {test_acc}')"
      ]
    }
  ]
}